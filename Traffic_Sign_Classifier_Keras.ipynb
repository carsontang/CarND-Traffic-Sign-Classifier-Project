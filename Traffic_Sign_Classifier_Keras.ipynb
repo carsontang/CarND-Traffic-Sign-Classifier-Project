{
 "cells": [
  {
   "cell_type": "markdown",
   "metadata": {},
   "source": [
    "# Self-Driving Car Engineer Nanodegree\n",
    "\n",
    "## Deep Learning\n",
    "\n",
    "## Project: Build a Traffic Sign Recognition Classifier\n",
    "\n",
    "In this notebook, a template is provided for you to implement your functionality in stages, which is required to successfully complete this project. If additional code is required that cannot be included in the notebook, be sure that the Python code is successfully imported and included in your submission if necessary. \n",
    "\n",
    "> **Note**: Once you have completed all of the code implementations, you need to finalize your work by exporting the iPython Notebook as an HTML document. Before exporting the notebook to html, all of the code cells need to have been run so that reviewers can see the final implementation and output. You can then export the notebook by using the menu above and navigating to  \\n\",\n",
    "    \"**File -> Download as -> HTML (.html)**. Include the finished document along with this notebook as your submission. \n",
    "\n",
    "In addition to implementing code, there is a writeup to complete. The writeup should be completed in a separate file, which can be either a markdown file or a pdf document. There is a [write up template](https://github.com/udacity/CarND-Traffic-Sign-Classifier-Project/blob/master/writeup_template.md) that can be used to guide the writing process. Completing the code template and writeup template will cover all of the [rubric points](https://review.udacity.com/#!/rubrics/481/view) for this project.\n",
    "\n",
    "The [rubric](https://review.udacity.com/#!/rubrics/481/view) contains \"Stand Out Suggestions\" for enhancing the project beyond the minimum requirements. The stand out suggestions are optional. If you decide to pursue the \"stand out suggestions\", you can include the code in this Ipython notebook and also discuss the results in the writeup file.\n",
    "\n",
    "\n",
    ">**Note:** Code and Markdown cells can be executed using the **Shift + Enter** keyboard shortcut. In addition, Markdown cells can be edited by typically double-clicking the cell to enter edit mode."
   ]
  },
  {
   "cell_type": "markdown",
   "metadata": {},
   "source": [
    "---\n",
    "## Step 0: Load The Data"
   ]
  },
  {
   "cell_type": "code",
   "execution_count": 38,
   "metadata": {},
   "outputs": [
    {
     "name": "stdout",
     "output_type": "stream",
     "text": [
      "Loaded data\n",
      "Number of training examples = 34799\n",
      "Number of validation examples = 4410\n",
      "Number of testing examples = 12630\n",
      "Number of custom examples = 5\n",
      "Image data shape = (32, 32, 3)\n",
      "Number of classes = 43\n",
      "Normalized train, validation, and test datasets.\n"
     ]
    }
   ],
   "source": [
    "# Load pickled data\n",
    "import pickle\n",
    "from skimage import color\n",
    "\n",
    "traffic_data_directory = \"/home/carson/Documents/traffic_data/\"\n",
    "training_file = traffic_data_directory + \"train.p\"\n",
    "validation_file= traffic_data_directory + \"valid.p\"\n",
    "testing_file = traffic_data_directory + \"test.p\"\n",
    "\n",
    "with open(training_file, mode='rb') as f:\n",
    "    train = pickle.load(f)\n",
    "with open(validation_file, mode='rb') as f:\n",
    "    valid = pickle.load(f)\n",
    "with open(testing_file, mode='rb') as f:\n",
    "    test = pickle.load(f)\n",
    "\n",
    "X_train, y_train = train['features'], train['labels']\n",
    "X_valid, y_valid = valid['features'], valid['labels']\n",
    "X_test, y_test = test['features'], test['labels']\n",
    "\n",
    "print(\"Loaded data\")\n",
    "\n",
    "num_image_channels = 3\n",
    "\n",
    "### Replace each question mark with the appropriate value. \n",
    "### Use python, pandas or numpy methods rather than hard coding the results\n",
    "import numpy as np\n",
    "\n",
    "# TODO: Number of training examples\n",
    "n_train = X_train.shape[0]\n",
    "\n",
    "# TODO: Number of validation examples\n",
    "n_validation = X_valid.shape[0]\n",
    "\n",
    "# TODO: Number of testing examples.\n",
    "n_test = X_test.shape[0]\n",
    "\n",
    "# TODO: What's the shape of an traffic sign image?\n",
    "image_shape = X_train.shape[1:]\n",
    "\n",
    "# TODO: How many unique classes/labels there are in the dataset.\n",
    "n_classes = len(np.unique(y_train))\n",
    "\n",
    "# Carson's custom test files\n",
    "import matplotlib.image as mpimg\n",
    "test_files = ['examples/seventy.jpg',\n",
    "              'examples/pedestrians.jpg',\n",
    "              'examples/beware_of_ice_snow.jpg',\n",
    "              'examples/priority_road.jpg',\n",
    "              'examples/no_passing.jpg']\n",
    "\n",
    "X_test2 = np.array([mpimg.imread(filename) for filename in test_files])\n",
    "y_test2 = np.array([4, 27, 30, 12, 9])\n",
    "\n",
    "print(\"Number of training examples =\", n_train)\n",
    "print(\"Number of validation examples =\", n_validation)\n",
    "print(\"Number of testing examples =\", n_test)\n",
    "print(\"Number of custom examples =\", X_test2.shape[0])\n",
    "print(\"Image data shape =\", image_shape)\n",
    "print(\"Number of classes =\", n_classes)\n",
    "\n",
    "### Preprocess the data here. It is required to normalize the data. Other preprocessing steps could include \n",
    "### converting to grayscale, etc.\n",
    "### Feel free to use as many code cells as needed.\n",
    "\n",
    "# def normalize(x):\n",
    "#     X = np.copy(x)\n",
    "#     X = X.astype(np.float64)\n",
    "#     mean_image = np.mean(X_train.astype(np.float64), axis=0, dtype=np.float64)\n",
    "#     X -= mean_image\n",
    "#     X /= np.std(X_train.astype(np.float64))\n",
    "#     return X\n",
    "\n",
    "# X_train_normalized = normalize(X_train)\n",
    "# X_valid_normalized = normalize(X_valid)\n",
    "# X_test_normalized = normalize(X_test)\n",
    "\n",
    "X_train = X_train.astype(np.float64)\n",
    "np.std(X_train)\n",
    "mean_image = np.mean(X_train, axis=0, dtype=np.float64)\n",
    "X_train_stddev = np.std(X_train)\n",
    "X_train -= mean_image\n",
    "X_train /= X_train_stddev\n",
    "\n",
    "X_valid = X_valid.astype(np.float64)\n",
    "X_valid -= mean_image\n",
    "X_valid /= X_train_stddev\n",
    "\n",
    "X_test = X_test.astype(np.float64)\n",
    "X_test -= mean_image\n",
    "X_test /= X_train_stddev\n",
    "print(\"Normalized train, validation, and test datasets.\")"
   ]
  },
  {
   "cell_type": "code",
   "execution_count": 45,
   "metadata": {},
   "outputs": [
    {
     "name": "stdout",
     "output_type": "stream",
     "text": [
      "Train on 34799 samples, validate on 4410 samples\n",
      "Epoch 1/20\n",
      "34799/34799 [==============================] - 1s - loss: 2.4405 - acc: 0.3482 - val_loss: 1.0969 - val_acc: 0.6907\n",
      "Epoch 2/20\n",
      "34799/34799 [==============================] - 1s - loss: 1.2297 - acc: 0.6251 - val_loss: 0.5968 - val_acc: 0.8315\n",
      "Epoch 3/20\n",
      "34799/34799 [==============================] - 1s - loss: 0.9179 - acc: 0.7180 - val_loss: 0.4800 - val_acc: 0.8526\n",
      "Epoch 4/20\n",
      "34799/34799 [==============================] - 1s - loss: 0.7592 - acc: 0.7678 - val_loss: 0.3731 - val_acc: 0.8991\n",
      "Epoch 5/20\n",
      "34799/34799 [==============================] - 1s - loss: 0.6633 - acc: 0.7943 - val_loss: 0.3172 - val_acc: 0.9147\n",
      "Epoch 6/20\n",
      "34799/34799 [==============================] - 1s - loss: 0.6200 - acc: 0.8102 - val_loss: 0.2788 - val_acc: 0.9268\n",
      "Epoch 7/20\n",
      "34799/34799 [==============================] - 1s - loss: 0.5659 - acc: 0.8268 - val_loss: 0.2916 - val_acc: 0.9240\n",
      "Epoch 8/20\n",
      "34799/34799 [==============================] - 1s - loss: 0.5397 - acc: 0.8333 - val_loss: 0.2482 - val_acc: 0.9374\n",
      "Epoch 9/20\n",
      "34799/34799 [==============================] - 1s - loss: 0.5172 - acc: 0.8402 - val_loss: 0.2214 - val_acc: 0.9435\n",
      "Epoch 10/20\n",
      "34799/34799 [==============================] - 1s - loss: 0.4956 - acc: 0.8497 - val_loss: 0.2233 - val_acc: 0.9424\n",
      "Epoch 11/20\n",
      "34799/34799 [==============================] - 1s - loss: 0.4730 - acc: 0.8543 - val_loss: 0.2091 - val_acc: 0.9492\n",
      "Epoch 12/20\n",
      "34799/34799 [==============================] - 1s - loss: 0.4525 - acc: 0.8613 - val_loss: 0.1908 - val_acc: 0.9469\n",
      "Epoch 13/20\n",
      "34799/34799 [==============================] - ETA: 0s - loss: 0.4449 - acc: 0.864 - 1s - loss: 0.4449 - acc: 0.8650 - val_loss: 0.2013 - val_acc: 0.9490\n",
      "Epoch 14/20\n",
      "34799/34799 [==============================] - 1s - loss: 0.4311 - acc: 0.8674 - val_loss: 0.1686 - val_acc: 0.9544\n",
      "Epoch 15/20\n",
      "34799/34799 [==============================] - 1s - loss: 0.4296 - acc: 0.8681 - val_loss: 0.1785 - val_acc: 0.9510\n",
      "Epoch 16/20\n",
      "34799/34799 [==============================] - 1s - loss: 0.4172 - acc: 0.8724 - val_loss: 0.1743 - val_acc: 0.9519\n",
      "Epoch 17/20\n",
      "34799/34799 [==============================] - 1s - loss: 0.4001 - acc: 0.8787 - val_loss: 0.1984 - val_acc: 0.9476\n",
      "Epoch 18/20\n",
      "34799/34799 [==============================] - 1s - loss: 0.3958 - acc: 0.8796 - val_loss: 0.1794 - val_acc: 0.9499\n",
      "Epoch 19/20\n",
      "34799/34799 [==============================] - 1s - loss: 0.3845 - acc: 0.8842 - val_loss: 0.1556 - val_acc: 0.9569\n",
      "Epoch 20/20\n",
      "34799/34799 [==============================] - 1s - loss: 0.3848 - acc: 0.8837 - val_loss: 0.1796 - val_acc: 0.9492\n",
      "Test loss: 0.0638373119198\n",
      "Test accuracy: 0.985229460617\n"
     ]
    }
   ],
   "source": [
    "from keras import utils\n",
    "from keras.models import Sequential\n",
    "from keras.layers.core import Dense, Activation, Flatten, Dropout\n",
    "from keras.layers.convolutional import Conv2D\n",
    "from keras.layers.pooling import MaxPooling2D\n",
    "from keras import optimizers\n",
    "from keras import callbacks\n",
    "from sklearn.utils import shuffle\n",
    "\n",
    "droprate = 0.5\n",
    "conv1_nfilters = 12\n",
    "conv2_nfilters = 32\n",
    "fc1_nodes = 120\n",
    "fc2_nodes = 84\n",
    "activation = 'elu'\n",
    "\n",
    "model = Sequential()\n",
    "model.add(Conv2D(filters=conv1_nfilters, kernel_size=(5, 5), input_shape=(32, 32, 3)))\n",
    "model.add(Activation(activation))\n",
    "model.add(MaxPooling2D((2, 2)))\n",
    "model.add(Dropout(droprate))\n",
    "model.add(Conv2D(filters=conv2_nfilters, kernel_size=(5, 5)))\n",
    "model.add(Activation(activation))\n",
    "model.add(MaxPooling2D((2, 2)))\n",
    "model.add(Dropout(droprate))\n",
    "model.add(Flatten())\n",
    "model.add(Dense(fc1_nodes))\n",
    "model.add(Activation(activation))\n",
    "model.add(Dropout(droprate))\n",
    "model.add(Dense(fc2_nodes))\n",
    "model.add(Activation(activation))\n",
    "model.add(Dropout(droprate))\n",
    "model.add(Dense(n_classes, activation='softmax'))\n",
    "\n",
    "epoch_end = {}\n",
    "epoch_end['train_loss'] = []\n",
    "epoch_end['train_acc'] = []\n",
    "\n",
    "class TrainCallback(callbacks.Callback):\n",
    "    def __init__(self, test_data):\n",
    "        self.test_data = test_data\n",
    "\n",
    "    def on_epoch_end(self, epoch, logs={}):\n",
    "        x, y = self.test_data\n",
    "        loss, acc = self.model.evaluate(x, y, verbose=0)\n",
    "        epoch_end['train_loss'].append(loss)\n",
    "        epoch_end['train_acc'].append(acc)\n",
    "        print('\\nEpoch end loss: {}, acc: {}\\n'.format(loss, acc))\n",
    "        \n",
    "y_one_hot = utils.to_categorical(y_train, n_classes)\n",
    "y_valid_one_hot = utils.to_categorical(y_valid, n_classes)\n",
    "\n",
    "adam = optimizers.Adam(lr=0.001, beta_1=0.9, beta_2=0.999, epsilon=1e-08, decay=0.0)\n",
    "model.compile(optimizer=adam, loss='categorical_crossentropy', metrics=['accuracy'])\n",
    "history = model.fit(X_train, y_one_hot, batch_size=128, epochs=20, validation_data=(X_valid, y_valid_one_hot))\n",
    "#                    callbacks=[TrainCallback((X_train, y_one_hot))])\n",
    "        \n",
    "score = model.evaluate(X_train, y_one_hot, verbose=0)\n",
    "print('Test loss:', score[0])\n",
    "print('Test accuracy:', score[1])"
   ]
  },
  {
   "cell_type": "code",
   "execution_count": 33,
   "metadata": {},
   "outputs": [
    {
     "data": {
      "text/plain": [
       "<matplotlib.text.Text at 0x7f9df9d57860>"
      ]
     },
     "execution_count": 33,
     "metadata": {},
     "output_type": "execute_result"
    },
    {
     "data": {
      "image/png": "[encoded data removed]",
      "text/plain": [
       "<matplotlib.figure.Figure at 0x7f9dfa86d780>"
      ]
     },
     "metadata": {},
     "output_type": "display_data"
    }
   ],
   "source": [
    "import matplotlib.pyplot as plt\n",
    "# Visualizations will be shown in the notebook.\n",
    "%matplotlib inline\n",
    "plt.rcParams['figure.figsize'] = (10.0, 8.0)\n",
    "\n",
    "# Why is training accuracy lower than validation accuracy?\n",
    "# Training accuracy is the average of accuracies of all batches during an epoch.\n",
    "# Validation accuracy is the accuracy of the entire dataset.\n",
    "# See https://keras.io/getting-started/faq/#why-is-the-training-loss-much-higher-than-the-testing-loss\n",
    "plt.plot(history.history['val_acc'], 'o', label='baseline') \n",
    "plt.plot(history.history['acc'], '-', label='baseline') # This is the avg training acc for each batch\n",
    "plt.plot(epoch_end['train_acc'], 'x', label='baseline') # This is the training acc at the end of an epoch.\n",
    "plt.title(\"Training vs Validation Dataset Accuracy\")"
   ]
  },
  {
   "cell_type": "code",
   "execution_count": 34,
   "metadata": {},
   "outputs": [
    {
     "data": {
      "text/plain": [
       "<matplotlib.text.Text at 0x7f9df9cc1eb8>"
      ]
     },
     "execution_count": 34,
     "metadata": {},
     "output_type": "execute_result"
    },
    {
     "data": {
      "image/png": "[encoded data removed]",
      "text/plain": [
       "<matplotlib.figure.Figure at 0x7f9dfb546d30>"
      ]
     },
     "metadata": {},
     "output_type": "display_data"
    }
   ],
   "source": [
    "plt.plot(history.history['val_loss'], 'o', label='baseline')\n",
    "plt.plot(history.history['loss'], '-', label='baseline')\n",
    "plt.plot(epoch_end['train_loss'], 'x', label='baseline')\n",
    "plt.title(\"Training vs Validation Loss\")"
   ]
  },
  {
   "cell_type": "code",
   "execution_count": 24,
   "metadata": {
    "scrolled": true
   },
   "outputs": [
    {
     "name": "stdout",
     "output_type": "stream",
     "text": [
      "Test loss: 0.24063556825\n",
      "Test accuracy: 0.932066508408\n",
      "Custom set loss: 3.22361922264\n",
      "Custome set accuracy: 0.800000011921\n"
     ]
    }
   ],
   "source": [
    "from keras.models import load_model\n",
    "model.save('model.h5')\n",
    "model = load_model('model.h5')\n",
    "\n",
    "X_test2 = np.array([mpimg.imread(filename) for filename in test_files])\n",
    "y_test2 = np.array([4, 27, 30, 12, 9])\n",
    "\n",
    "y_test_one_hot = utils.to_categorical(y_test, n_classes)\n",
    "y_test2_one_hot = utils.to_categorical(y_test2, n_classes)\n",
    "\n",
    "score = model.evaluate(X_test, y_test_one_hot, verbose=0)\n",
    "print('Test loss:', score[0])\n",
    "print('Test accuracy:', score[1])\n",
    "\n",
    "score = model.evaluate(X_test2, y_test2_one_hot, verbose=0)\n",
    "print('Custom set loss:', score[0])\n",
    "print('Custome set accuracy:', score[1])"
   ]
  },
  {
   "cell_type": "markdown",
   "metadata": {},
   "source": [
    "---\n",
    "\n",
    "## Step 4 (Optional): Visualize the Neural Network's State with Test Images\n",
    "\n",
    " This Section is not required to complete but acts as an additional excersise for understaning the output of a neural network's weights. While neural networks can be a great learning device they are often referred to as a black box. We can understand what the weights of a neural network look like better by plotting their feature maps. After successfully training your neural network you can see what it's feature maps look like by plotting the output of the network's weight layers in response to a test stimuli image. From these plotted feature maps, it's possible to see what characteristics of an image the network finds interesting. For a sign, maybe the inner network feature maps react with high activation to the sign's boundary outline or to the contrast in the sign's painted symbol.\n",
    "\n",
    " Provided for you below is the function code that allows you to get the visualization output of any tensorflow weight layer you want. The inputs to the function should be a stimuli image, one used during training or a new one you provided, and then the tensorflow variable name that represents the layer's state during the training process, for instance if you wanted to see what the [LeNet lab's](https://classroom.udacity.com/nanodegrees/nd013/parts/fbf77062-5703-404e-b60c-95b78b2f3f9e/modules/6df7ae49-c61c-4bb2-a23e-6527e69209ec/lessons/601ae704-1035-4287-8b11-e2c2716217ad/concepts/d4aca031-508f-4e0b-b493-e7b706120f81) feature maps looked like for it's second convolutional layer you could enter conv2 as the tf_activation variable.\n",
    "\n",
    "For an example of what feature map outputs look like, check out NVIDIA's results in their paper [End-to-End Deep Learning for Self-Driving Cars](https://devblogs.nvidia.com/parallelforall/deep-learning-self-driving-cars/) in the section Visualization of internal CNN State. NVIDIA was able to show that their network's inner weights had high activations to road boundary lines by comparing feature maps from an image with a clear path to one without. Try experimenting with a similar test to show that your trained network's weights are looking for interesting features, whether it's looking at differences in feature maps from images with or without a sign, or even what feature maps look like in a trained network vs a completely untrained one on the same sign image.\n",
    "\n",
    "<figure>\n",
    " <img src=\"visualize_cnn.png\" width=\"380\" alt=\"Combined Image\" />\n",
    " <figcaption>\n",
    " <p></p> \n",
    " <p style=\"text-align: center;\"> Your output should look something like this (above)</p> \n",
    " </figcaption>\n",
    "</figure>\n",
    " <p></p> \n"
   ]
  },
  {
   "cell_type": "code",
   "execution_count": null,
   "metadata": {
    "collapsed": true
   },
   "outputs": [],
   "source": [
    "### Visualize your network's feature maps here.\n",
    "### Feel free to use as many code cells as needed.\n",
    "\n",
    "# image_input: the test image being fed into the network to produce the feature maps\n",
    "# tf_activation: should be a tf variable name used during your training procedure that represents the calculated state of a specific weight layer\n",
    "# activation_min/max: can be used to view the activation contrast in more detail, by default matplot sets min and max to the actual min and max values of the output\n",
    "# plt_num: used to plot out multiple different weight feature map sets on the same block, just extend the plt number for each new feature map entry\n",
    "\n",
    "def outputFeatureMap(image_input, tf_activation, activation_min=-1, activation_max=-1 ,plt_num=1):\n",
    "    # Here make sure to preprocess your image_input in a way your network expects\n",
    "    # with size, normalization, ect if needed\n",
    "    # image_input =\n",
    "    # Note: x should be the same name as your network's tensorflow data placeholder variable\n",
    "    # If you get an error tf_activation is not defined it may be having trouble accessing the variable from inside a function\n",
    "    activation = tf_activation.eval(session=sess,feed_dict={x : image_input})\n",
    "    featuremaps = activation.shape[3]\n",
    "    plt.figure(plt_num, figsize=(15,15))\n",
    "    for featuremap in range(featuremaps):\n",
    "        plt.subplot(6,8, featuremap+1) # sets the number of feature maps to show on each row and column\n",
    "        plt.title('FeatureMap ' + str(featuremap)) # displays the feature map number\n",
    "        if activation_min != -1 & activation_max != -1:\n",
    "            plt.imshow(activation[0,:,:, featuremap], interpolation=\"nearest\", vmin =activation_min, vmax=activation_max, cmap=\"gray\")\n",
    "        elif activation_max != -1:\n",
    "            plt.imshow(activation[0,:,:, featuremap], interpolation=\"nearest\", vmax=activation_max, cmap=\"gray\")\n",
    "        elif activation_min !=-1:\n",
    "            plt.imshow(activation[0,:,:, featuremap], interpolation=\"nearest\", vmin=activation_min, cmap=\"gray\")\n",
    "        else:\n",
    "            plt.imshow(activation[0,:,:, featuremap], interpolation=\"nearest\", cmap=\"gray\")"
   ]
  }
 ],
 "metadata": {
  "anaconda-cloud": {},
  "kernelspec": {
   "display_name": "Python 3",
   "language": "python",
   "name": "python3"
  },
  "language_info": {
   "codemirror_mode": {
    "name": "ipython",
    "version": 3
   },
   "file_extension": ".py",
   "mimetype": "text/x-python",
   "name": "python",
   "nbconvert_exporter": "python",
   "pygments_lexer": "ipython3",
   "version": "3.5.2"
  },
  "widgets": {
   "state": {},
   "version": "1.1.2"
  }
 },
 "nbformat": 4,
 "nbformat_minor": 1
}
